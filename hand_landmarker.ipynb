{
 "cells": [
  {
   "cell_type": "markdown",
   "metadata": {
    "id": "h2q27gKz1H20"
   },
   "source": [
    "##### Copyright 2023 The MediaPipe Authors. All Rights Reserved."
   ]
  },
  {
   "cell_type": "code",
   "metadata": {
    "id": "TUfAcER1oUS6",
    "ExecuteTime": {
     "end_time": "2025-01-27T14:23:26.542126Z",
     "start_time": "2025-01-27T14:23:26.538791Z"
    }
   },
   "source": [
    "#@title Licensed under the Apache License, Version 2.0 (the \"License\");\n",
    "# you may not use this file except in compliance with the License.\n",
    "# You may obtain a copy of the License at\n",
    "#\n",
    "# https://www.apache.org/licenses/LICENSE-2.0\n",
    "#\n",
    "# Unless required by applicable law or agreed to in writing, software\n",
    "# distributed under the License is distributed on an \"AS IS\" BASIS,\n",
    "# WITHOUT WARRANTIES OR CONDITIONS OF ANY KIND, either express or implied.\n",
    "# See the License for the specific language governing permissions and\n",
    "# limitations under the License."
   ],
   "outputs": [],
   "execution_count": 1
  },
  {
   "cell_type": "markdown",
   "metadata": {
    "id": "L_cQX8dWu4Dv"
   },
   "source": [
    "# Hand Landmarks Detection with MediaPipe Tasks\n",
    "\n",
    "This notebook shows you how to use MediaPipe Tasks Python API to detect hand landmarks from images."
   ]
  },
  {
   "cell_type": "markdown",
   "metadata": {
    "id": "O6PN9FvIx614"
   },
   "source": [
    "## Preparation\n",
    "\n",
    "Let's start with installing MediaPipe."
   ]
  },
  {
   "cell_type": "code",
   "metadata": {
    "id": "gxbHBsF-8Y_l",
    "ExecuteTime": {
     "end_time": "2024-07-23T01:14:56.768640Z",
     "start_time": "2024-07-23T01:14:56.194040Z"
    }
   },
   "source": [
    "import random\n",
    "!pip install -q mediapipe"
   ],
   "outputs": [],
   "execution_count": 2
  },
  {
   "cell_type": "markdown",
   "metadata": {
    "id": "a49D7h4TVmru"
   },
   "source": [
    "Then download an off-the-shelf model bundle. Check out the [MediaPipe documentation](https://developers.google.com/mediapipe/solutions/vision/hand_landmarker#models) for more information about this model bundle."
   ]
  },
  {
   "cell_type": "code",
   "metadata": {
    "id": "OMjuVQiDYJKF",
    "ExecuteTime": {
     "end_time": "2024-07-23T01:14:56.892990Z",
     "start_time": "2024-07-23T01:14:56.771409Z"
    }
   },
   "source": [
    "!wget -q https://storage.googleapis.com/mediapipe-models/hand_landmarker/hand_landmarker/float16/1/hand_landmarker.task"
   ],
   "outputs": [
    {
     "name": "stdout",
     "output_type": "stream",
     "text": [
      "zsh:1: command not found: wget\r\n"
     ]
    }
   ],
   "execution_count": 3
  },
  {
   "cell_type": "markdown",
   "metadata": {
    "id": "YYKAJ5nDU8-I"
   },
   "source": [
    "## Visualization utilities"
   ]
  },
  {
   "cell_type": "code",
   "metadata": {
    "cellView": "form",
    "id": "s3E6NFV-00Qt",
    "ExecuteTime": {
     "end_time": "2024-07-24T09:27:34.678870Z",
     "start_time": "2024-07-24T09:27:34.672551Z"
    }
   },
   "source": [
    "#@markdown We implemented some functions to visualize the hand landmark detection results. <br/> Run the following cell to activate the functions.\n",
    "\n",
    "from mediapipe import solutions\n",
    "from mediapipe.framework.formats import landmark_pb2\n",
    "import numpy as np\n",
    "\n",
    "MARGIN = 10  # pixels\n",
    "FONT_SIZE = 1\n",
    "FONT_THICKNESS = 1\n",
    "HANDEDNESS_TEXT_COLOR = (88, 205, 54) # vibrant green\n",
    "\n",
    "def draw_landmarks_on_image(rgb_image, detection_result):\n",
    "  hand_landmarks_list = detection_result.hand_landmarks\n",
    "  handedness_list = detection_result.handedness\n",
    "  annotated_image = np.copy(rgb_image)\n",
    "\n",
    "  # Loop through the detected hands to visualize.\n",
    "  for idx in range(len(hand_landmarks_list)):\n",
    "    hand_landmarks = hand_landmarks_list[idx]\n",
    "    handedness = handedness_list[idx]\n",
    "\n",
    "    # Draw the hand landmarks.\n",
    "    hand_landmarks_proto = landmark_pb2.NormalizedLandmarkList()\n",
    "    hand_landmarks_proto.landmark.extend([\n",
    "      landmark_pb2.NormalizedLandmark(x=landmark.x, y=landmark.y, z=landmark.z) for landmark in hand_landmarks\n",
    "    ])\n",
    "    solutions.drawing_utils.draw_landmarks(\n",
    "      annotated_image,\n",
    "      hand_landmarks_proto,\n",
    "      solutions.hands.HAND_CONNECTIONS,\n",
    "      solutions.drawing_styles.get_default_hand_landmarks_style(),\n",
    "      solutions.drawing_styles.get_default_hand_connections_style())\n",
    "\n",
    "    # Get the top left corner of the detected hand's bounding box.\n",
    "    height, width, _ = annotated_image.shape\n",
    "    x_coordinates = [landmark.x for landmark in hand_landmarks]\n",
    "    y_coordinates = [landmark.y for landmark in hand_landmarks]\n",
    "    text_x = int(min(x_coordinates) * width)\n",
    "    text_y = int(min(y_coordinates) * height) - MARGIN\n",
    "\n",
    "    # Draw handedness (left or right hand) on the image.\n",
    "    cv2.putText(annotated_image, f\"{handedness[0].category_name}\",\n",
    "                (text_x, text_y), cv2.FONT_HERSHEY_DUPLEX,\n",
    "                FONT_SIZE, HANDEDNESS_TEXT_COLOR, FONT_THICKNESS, cv2.LINE_AA)\n",
    "\n",
    "  return annotated_image"
   ],
   "outputs": [],
   "execution_count": 2
  },
  {
   "cell_type": "markdown",
   "metadata": {
    "id": "83PEJNp9yPBU"
   },
   "source": [
    "## Download test image\n",
    "\n",
    "Let's grab a test image that we'll use later. The image is from [Unsplash](https://unsplash.com/photos/mt2fyrdXxzk)."
   ]
  },
  {
   "cell_type": "code",
   "metadata": {
    "id": "tzXuqyIBlXer",
    "ExecuteTime": {
     "end_time": "2024-07-23T01:14:57.742544Z",
     "start_time": "2024-07-23T01:14:57.425830Z"
    }
   },
   "source": [
    "!wget -q -O image.jpg https://storage.googleapis.com/mediapipe-tasks/hand_landmarker/woman_hands.jpg\n",
    "\n",
    "import cv2\n",
    "from google.colab.patches import cv2_imshow\n",
    "\n",
    "img = cv2.imread(\"image.jpg\")\n",
    "cv2_imshow(img)"
   ],
   "outputs": [
    {
     "name": "stdout",
     "output_type": "stream",
     "text": [
      "zsh:1: command not found: wget\r\n"
     ]
    },
    {
     "ename": "ModuleNotFoundError",
     "evalue": "No module named 'google.colab'",
     "output_type": "error",
     "traceback": [
      "\u001B[0;31m---------------------------------------------------------------------------\u001B[0m",
      "\u001B[0;31mModuleNotFoundError\u001B[0m                       Traceback (most recent call last)",
      "Cell \u001B[0;32mIn[5], line 4\u001B[0m\n\u001B[1;32m      1\u001B[0m get_ipython()\u001B[38;5;241m.\u001B[39msystem(\u001B[38;5;124m'\u001B[39m\u001B[38;5;124mwget -q -O image.jpg https://storage.googleapis.com/mediapipe-tasks/hand_landmarker/woman_hands.jpg\u001B[39m\u001B[38;5;124m'\u001B[39m)\n\u001B[1;32m      3\u001B[0m \u001B[38;5;28;01mimport\u001B[39;00m \u001B[38;5;21;01mcv2\u001B[39;00m\n\u001B[0;32m----> 4\u001B[0m \u001B[38;5;28;01mfrom\u001B[39;00m \u001B[38;5;21;01mgoogle\u001B[39;00m\u001B[38;5;21;01m.\u001B[39;00m\u001B[38;5;21;01mcolab\u001B[39;00m\u001B[38;5;21;01m.\u001B[39;00m\u001B[38;5;21;01mpatches\u001B[39;00m \u001B[38;5;28;01mimport\u001B[39;00m cv2_imshow\n\u001B[1;32m      6\u001B[0m img \u001B[38;5;241m=\u001B[39m cv2\u001B[38;5;241m.\u001B[39mimread(\u001B[38;5;124m\"\u001B[39m\u001B[38;5;124mimage.jpg\u001B[39m\u001B[38;5;124m\"\u001B[39m)\n\u001B[1;32m      7\u001B[0m cv2_imshow(img)\n",
      "\u001B[0;31mModuleNotFoundError\u001B[0m: No module named 'google.colab'"
     ]
    }
   ],
   "execution_count": 5
  },
  {
   "cell_type": "markdown",
   "metadata": {
    "id": "u-skLwMBmMN_"
   },
   "source": [
    "Optionally, you can upload your own image. If you want to do so, uncomment and run the cell below."
   ]
  },
  {
   "cell_type": "code",
   "metadata": {
    "id": "etBjSdwImQPw"
   },
   "source": [
    "# from google.colab import files\n",
    "# uploaded = files.upload()\n",
    "\n",
    "# for filename in uploaded:\n",
    "#   content = uploaded[filename]\n",
    "#   with open(filename, 'wb') as f:\n",
    "#     f.write(content)\n",
    "\n",
    "# if len(uploaded.keys()):\n",
    "#   IMAGE_FILE = next(iter(uploaded))\n",
    "#   print('Uploaded file:', IMAGE_FILE)"
   ],
   "outputs": [],
   "execution_count": null
  },
  {
   "cell_type": "markdown",
   "metadata": {
    "id": "Iy4r2_ePylIa"
   },
   "source": [
    "## Running inference and visualizing the results\n",
    "\n",
    "Here are the steps to run hand landmark detection using MediaPipe.\n",
    "\n",
    "Check out the [MediaPipe documentation](https://developers.google.com/mediapipe/solutions/vision/hand_landmarker/python) to learn more about configuration options that this solution supports.\n"
   ]
  },
  {
   "cell_type": "code",
   "metadata": {
    "id": "_JVO3rvPD4RN",
    "ExecuteTime": {
     "end_time": "2024-07-25T01:33:23.760546Z",
     "start_time": "2024-07-25T01:33:19.160313Z"
    }
   },
   "source": [
    "# STEP 1: Import the necessary modules.\n",
    "import mediapipe as mp\n",
    "from mediapipe.tasks import python\n",
    "from mediapipe.tasks.python import vision\n",
    "\n",
    "# STEP 2: Create an HandLandmarker object.\n",
    "base_options = python.BaseOptions(model_asset_path='hand_landmarker.task')\n",
    "options = vision.HandLandmarkerOptions(base_options=base_options,\n",
    "                                       num_hands=2)\n",
    "detector = vision.HandLandmarker.create_from_options(options)\n",
    "\n",
    "# STEP 3: Load the input image.\n",
    "image = mp.Image.create_from_file(\"image.jpg\")\n",
    "\n",
    "# STEP 4: Detect hand landmarks from the input image.\n",
    "detection_result = detector.detect(image)\n",
    "\n",
    "# STEP 5: Process the classification result. In this case, visualize it.\n",
    "annotated_image = draw_landmarks_on_image(image.numpy_view(), detection_result)\n",
    "cv2_imshow(cv2.cvtColor(annotated_image, cv2.COLOR_RGB2BGR))"
   ],
   "outputs": [
    {
     "name": "stderr",
     "output_type": "stream",
     "text": [
      "WARNING: All log messages before absl::InitializeLog() is called are written to STDERR\n",
      "I0000 00:00:1721871203.571017 1128745 gl_context.cc:357] GL version: 2.1 (2.1 Metal - 76.3), renderer: Apple M1\n"
     ]
    },
    {
     "ename": "RuntimeError",
     "evalue": "Unable to open file at /Users/apple/PycharmProjects/hand_landmarker/hand_landmarker.task",
     "output_type": "error",
     "traceback": [
      "\u001B[0;31m---------------------------------------------------------------------------\u001B[0m",
      "\u001B[0;31mRuntimeError\u001B[0m                              Traceback (most recent call last)",
      "Cell \u001B[0;32mIn[1], line 10\u001B[0m\n\u001B[1;32m      7\u001B[0m base_options \u001B[38;5;241m=\u001B[39m python\u001B[38;5;241m.\u001B[39mBaseOptions(model_asset_path\u001B[38;5;241m=\u001B[39m\u001B[38;5;124m'\u001B[39m\u001B[38;5;124mhand_landmarker.task\u001B[39m\u001B[38;5;124m'\u001B[39m)\n\u001B[1;32m      8\u001B[0m options \u001B[38;5;241m=\u001B[39m vision\u001B[38;5;241m.\u001B[39mHandLandmarkerOptions(base_options\u001B[38;5;241m=\u001B[39mbase_options,\n\u001B[1;32m      9\u001B[0m                                        num_hands\u001B[38;5;241m=\u001B[39m\u001B[38;5;241m2\u001B[39m)\n\u001B[0;32m---> 10\u001B[0m detector \u001B[38;5;241m=\u001B[39m \u001B[43mvision\u001B[49m\u001B[38;5;241;43m.\u001B[39;49m\u001B[43mHandLandmarker\u001B[49m\u001B[38;5;241;43m.\u001B[39;49m\u001B[43mcreate_from_options\u001B[49m\u001B[43m(\u001B[49m\u001B[43moptions\u001B[49m\u001B[43m)\u001B[49m\n\u001B[1;32m     12\u001B[0m \u001B[38;5;66;03m# STEP 3: Load the input image.\u001B[39;00m\n\u001B[1;32m     13\u001B[0m image \u001B[38;5;241m=\u001B[39m mp\u001B[38;5;241m.\u001B[39mImage\u001B[38;5;241m.\u001B[39mcreate_from_file(\u001B[38;5;124m\"\u001B[39m\u001B[38;5;124mimage.jpg\u001B[39m\u001B[38;5;124m\"\u001B[39m)\n",
      "File \u001B[0;32m~/PycharmProjects/hand_landmarker/.venv/lib/python3.9/site-packages/mediapipe/tasks/python/vision/hand_landmarker.py:364\u001B[0m, in \u001B[0;36mHandLandmarker.create_from_options\u001B[0;34m(cls, options)\u001B[0m\n\u001B[1;32m    342\u001B[0m   options\u001B[38;5;241m.\u001B[39mresult_callback(\n\u001B[1;32m    343\u001B[0m       hand_landmarks_detection_result,\n\u001B[1;32m    344\u001B[0m       image,\n\u001B[1;32m    345\u001B[0m       timestamp\u001B[38;5;241m.\u001B[39mvalue \u001B[38;5;241m/\u001B[39m\u001B[38;5;241m/\u001B[39m _MICRO_SECONDS_PER_MILLISECOND,\n\u001B[1;32m    346\u001B[0m   )\n\u001B[1;32m    348\u001B[0m task_info \u001B[38;5;241m=\u001B[39m _TaskInfo(\n\u001B[1;32m    349\u001B[0m     task_graph\u001B[38;5;241m=\u001B[39m_TASK_GRAPH_NAME,\n\u001B[1;32m    350\u001B[0m     input_streams\u001B[38;5;241m=\u001B[39m[\n\u001B[0;32m   (...)\u001B[0m\n\u001B[1;32m    362\u001B[0m     task_options\u001B[38;5;241m=\u001B[39moptions,\n\u001B[1;32m    363\u001B[0m )\n\u001B[0;32m--> 364\u001B[0m \u001B[38;5;28;01mreturn\u001B[39;00m \u001B[38;5;28;43mcls\u001B[39;49m\u001B[43m(\u001B[49m\n\u001B[1;32m    365\u001B[0m \u001B[43m    \u001B[49m\u001B[43mtask_info\u001B[49m\u001B[38;5;241;43m.\u001B[39;49m\u001B[43mgenerate_graph_config\u001B[49m\u001B[43m(\u001B[49m\n\u001B[1;32m    366\u001B[0m \u001B[43m        \u001B[49m\u001B[43menable_flow_limiting\u001B[49m\u001B[38;5;241;43m=\u001B[39;49m\u001B[43moptions\u001B[49m\u001B[38;5;241;43m.\u001B[39;49m\u001B[43mrunning_mode\u001B[49m\n\u001B[1;32m    367\u001B[0m \u001B[43m        \u001B[49m\u001B[38;5;241;43m==\u001B[39;49m\u001B[43m \u001B[49m\u001B[43m_RunningMode\u001B[49m\u001B[38;5;241;43m.\u001B[39;49m\u001B[43mLIVE_STREAM\u001B[49m\n\u001B[1;32m    368\u001B[0m \u001B[43m    \u001B[49m\u001B[43m)\u001B[49m\u001B[43m,\u001B[49m\n\u001B[1;32m    369\u001B[0m \u001B[43m    \u001B[49m\u001B[43moptions\u001B[49m\u001B[38;5;241;43m.\u001B[39;49m\u001B[43mrunning_mode\u001B[49m\u001B[43m,\u001B[49m\n\u001B[1;32m    370\u001B[0m \u001B[43m    \u001B[49m\u001B[43mpackets_callback\u001B[49m\u001B[43m \u001B[49m\u001B[38;5;28;43;01mif\u001B[39;49;00m\u001B[43m \u001B[49m\u001B[43moptions\u001B[49m\u001B[38;5;241;43m.\u001B[39;49m\u001B[43mresult_callback\u001B[49m\u001B[43m \u001B[49m\u001B[38;5;28;43;01melse\u001B[39;49;00m\u001B[43m \u001B[49m\u001B[38;5;28;43;01mNone\u001B[39;49;00m\u001B[43m,\u001B[49m\n\u001B[1;32m    371\u001B[0m \u001B[43m\u001B[49m\u001B[43m)\u001B[49m\n",
      "File \u001B[0;32m~/PycharmProjects/hand_landmarker/.venv/lib/python3.9/site-packages/mediapipe/tasks/python/vision/core/base_vision_task_api.py:70\u001B[0m, in \u001B[0;36mBaseVisionTaskApi.__init__\u001B[0;34m(self, graph_config, running_mode, packet_callback)\u001B[0m\n\u001B[1;32m     65\u001B[0m \u001B[38;5;28;01melif\u001B[39;00m packet_callback:\n\u001B[1;32m     66\u001B[0m   \u001B[38;5;28;01mraise\u001B[39;00m \u001B[38;5;167;01mValueError\u001B[39;00m(\n\u001B[1;32m     67\u001B[0m       \u001B[38;5;124m'\u001B[39m\u001B[38;5;124mThe vision task is in image or video mode, a user-defined result \u001B[39m\u001B[38;5;124m'\u001B[39m\n\u001B[1;32m     68\u001B[0m       \u001B[38;5;124m'\u001B[39m\u001B[38;5;124mcallback should not be provided.\u001B[39m\u001B[38;5;124m'\u001B[39m\n\u001B[1;32m     69\u001B[0m   )\n\u001B[0;32m---> 70\u001B[0m \u001B[38;5;28mself\u001B[39m\u001B[38;5;241m.\u001B[39m_runner \u001B[38;5;241m=\u001B[39m \u001B[43m_TaskRunner\u001B[49m\u001B[38;5;241;43m.\u001B[39;49m\u001B[43mcreate\u001B[49m\u001B[43m(\u001B[49m\u001B[43mgraph_config\u001B[49m\u001B[43m,\u001B[49m\u001B[43m \u001B[49m\u001B[43mpacket_callback\u001B[49m\u001B[43m)\u001B[49m\n\u001B[1;32m     71\u001B[0m \u001B[38;5;28mself\u001B[39m\u001B[38;5;241m.\u001B[39m_running_mode \u001B[38;5;241m=\u001B[39m running_mode\n",
      "\u001B[0;31mRuntimeError\u001B[0m: Unable to open file at /Users/apple/PycharmProjects/hand_landmarker/hand_landmarker.task"
     ]
    }
   ],
   "execution_count": 1
  },
  {
   "metadata": {
    "ExecuteTime": {
     "end_time": "2024-08-08T11:42:43.496501Z",
     "start_time": "2024-08-08T11:42:43.485171Z"
    }
   },
   "cell_type": "code",
   "source": [
    "\n",
    "11122211212353521325"
   ],
   "outputs": [
    {
     "data": {
      "text/plain": [
       "11122211212353521325"
      ]
     },
     "execution_count": 5,
     "metadata": {},
     "output_type": "execute_result"
    }
   ],
   "execution_count": 5
  },
  {
   "metadata": {
    "ExecuteTime": {
     "end_time": "2024-08-09T02:23:38.171862Z",
     "start_time": "2024-08-09T02:23:24.548221Z"
    }
   },
   "cell_type": "code",
   "source": [
    "\n",
    "\n",
    "                "
   ],
   "outputs": [
    {
     "name": "stderr",
     "output_type": "stream",
     "text": [
      "I0000 00:00:1723170204.721669 3861222 gl_context.cc:357] GL version: 2.1 (2.1 Metal - 76.3), renderer: Apple M1\n",
      "W0000 00:00:1723170204.728736 3867526 inference_feedback_manager.cc:114] Feedback manager requires a model with a single signature inference. Disabling support for feedback tensors.\n",
      "W0000 00:00:1723170204.747830 3867528 inference_feedback_manager.cc:114] Feedback manager requires a model with a single signature inference. Disabling support for feedback tensors.\n"
     ]
    },
    {
     "ename": "KeyboardInterrupt",
     "evalue": "",
     "output_type": "error",
     "traceback": [
      "\u001B[0;31m---------------------------------------------------------------------------\u001B[0m",
      "\u001B[0;31mKeyboardInterrupt\u001B[0m                         Traceback (most recent call last)",
      "Cell \u001B[0;32mIn[9], line 71\u001B[0m\n\u001B[1;32m     68\u001B[0m         mpDraw\u001B[38;5;241m.\u001B[39mdraw_landmarks(image, handLms, mpHands\u001B[38;5;241m.\u001B[39mHAND_CONNECTIONS)\n\u001B[1;32m     69\u001B[0m cv2\u001B[38;5;241m.\u001B[39mimshow(\u001B[38;5;124m\"\u001B[39m\u001B[38;5;124mOutput\u001B[39m\u001B[38;5;124m\"\u001B[39m, image)\n\u001B[0;32m---> 71\u001B[0m key \u001B[38;5;241m=\u001B[39m \u001B[43mcv2\u001B[49m\u001B[38;5;241;43m.\u001B[39;49m\u001B[43mwaitKey\u001B[49m\u001B[43m(\u001B[49m\u001B[38;5;241;43m1\u001B[39;49m\u001B[43m)\u001B[49m \u001B[38;5;241m&\u001B[39m \u001B[38;5;241m0xFF\u001B[39m \n\u001B[1;32m     73\u001B[0m \u001B[38;5;28;01mif\u001B[39;00m key \u001B[38;5;241m==\u001B[39m \u001B[38;5;28mord\u001B[39m(\u001B[38;5;124m'\u001B[39m\u001B[38;5;124m1\u001B[39m\u001B[38;5;124m'\u001B[39m):\n\u001B[1;32m     74\u001B[0m     thumb_tip \u001B[38;5;241m=\u001B[39m \u001B[38;5;129;01mnot\u001B[39;00m thumb_tip\n",
      "\u001B[0;31mKeyboardInterrupt\u001B[0m: "
     ]
    }
   ],
   "execution_count": 9
  },
  {
   "metadata": {
    "ExecuteTime": {
     "end_time": "2025-01-27T15:09:23.083050Z",
     "start_time": "2025-01-27T15:09:17.545342Z"
    }
   },
   "cell_type": "code",
   "source": [
    "import math\n",
    "from math import atan2, degrees\n",
    "import numpy as np\n",
    "import cv2\n",
    "import mediapipe as mp\n",
    "\n",
    "# Initialize video capture and MediaPipe\n",
    "cap = cv2.VideoCapture(0)\n",
    "mpHands = mp.solutions.hands\n",
    "hands = mpHands.Hands()\n",
    "mpDraw = mp.solutions.drawing_utils\n",
    "\n",
    "# Define font settings for displaying text on the image\n",
    "font = cv2.FONT_HERSHEY_SIMPLEX\n",
    "font_scale = 0.8\n",
    "color = (255, 255, 255)\n",
    "thickness = 2\n",
    "\n",
    "\n",
    "\n",
    "# variables for thumb tip detection and distance calculation\n",
    "thumb_tip = False\n",
    "index_finger_tip = False\n",
    "middle_finger_tip = False\n",
    "ring_finger_tip = False\n",
    "pinky_finger_tip = False\n",
    "\n",
    "\n",
    "while True:\n",
    "    success, image = cap.read()\n",
    "    imageRGB = cv2.cvtColor(image, cv2.COLOR_BGR2RGB)\n",
    "    results = hands.process(imageRGB)\n",
    "    \n",
    "    # Draw a random dots on the image\n",
    "    h, w, c = image.shape\n",
    "    \n",
    "    \n",
    "    rx1 = 500\n",
    "    ry1 = 300\n",
    "    cv2.circle(image, (rx1, ry1), 5, (255, 0, 0), cv2.FILLED)\n",
    "    \n",
    "    rx2 = 300\n",
    "    ry2 = 350\n",
    "    cv2.circle(image, (rx2, ry2), 5, (255, 0, 0), cv2.FILLED)\n",
    "    \n",
    "    rx3 = 800\n",
    "    ry3 = 100\n",
    "    cv2.circle(image, (rx3, ry3), 5, (255, 0, 0), cv2.FILLED)\n",
    "    \n",
    "    rx4 = 650\n",
    "    ry4 = 250\n",
    "    cv2.circle(image, (rx4, ry4), 5, (255, 0, 0), cv2.FILLED)\n",
    "    \n",
    "    rx5 = 700\n",
    "    ry5 = 400\n",
    "    cv2.circle(image, (rx5, ry5), 5, (255, 0, 0), cv2.FILLED)\n",
    "    \n",
    "    # Check whether a hand is detected\n",
    "    if results.multi_hand_landmarks:\n",
    "        for handLms in results.multi_hand_landmarks: # Working with each hand\n",
    "            for id, lm in enumerate(handLms.landmark):\n",
    "                h, w, c = image.shape\n",
    "                cx, cy = int(lm.x * w), int(lm.y * h)\n",
    "                \n",
    "                        \n",
    "                if thumb_tip and id == 4:\n",
    "                    cv2.circle(image, (cx, cy), 25, (0, 255, 0), cv2.FILLED)\n",
    "                    \n",
    "                    \n",
    "                    # Get the coordinates of another point (thumb IP right here) for angle calculation\n",
    "                    sx, sy = int(handLms.landmark[id - 1].x * w), int(handLms.landmark[id-1].y * h)\n",
    "                        \n",
    "                    # Calculate the distance between fingertip and the target dot\n",
    "                    x_target_distance = rx1 - cx\n",
    "                    y_target_distance = ry1 - cy\n",
    "                    distance = math.sqrt(x_target_distance**2 + y_target_distance**2)\n",
    "                        \n",
    "                    # Calculate the angle to the target point using atan2\n",
    "                    angle_to_target_in_radians = math.atan2(y_target_distance, x_target_distance)\n",
    "                    angle_to_target_in_degrees = degrees(angle_to_target_in_radians)\n",
    "                        \n",
    "                    # Calculate the angle of the thumb tip (relative to the hand) using atan2\n",
    "                    thumb_angle_in_radians = math.atan2(cy - sy, cx - sx)\n",
    "                    thumb_angle_in_degrees = degrees(thumb_angle_in_radians)\n",
    "                        \n",
    "                    # Compute the difference in angles\n",
    "                    angle_difference = angle_to_target_in_degrees - thumb_angle_in_degrees\n",
    "                        \n",
    "                    # Normalize the angle difference to the range [-180, 180]\n",
    "                    angle_difference = (angle_difference + 180) % 360 - 180\n",
    "                \n",
    "                # A line that connect the fingertip and the target dot\n",
    "                    cv2.line(image, (cx, cy), (rx1, ry1), (0, 255, 0), 2)\n",
    "                        \n",
    "                        \n",
    "                \n",
    "                # Display distance and angle on the image\n",
    "                    thumb_text_position = (cx, cy - 40)\n",
    "                    cv2.putText(image, f\"distance: {distance:.2f}\", thumb_text_position, font, font_scale, color, thickness)\n",
    "                    angle_text_position = (cx, cy - 70)\n",
    "                    cv2.putText(image, f\"angle difference: {angle_difference:.2f}\", angle_text_position, font, font_scale, color, thickness)\n",
    "                    \n",
    "                \n",
    "                        \n",
    "                        \n",
    "                if index_finger_tip and id == 8:\n",
    "                    cv2.circle(image, (cx, cy), 25, (0, 255, 0), cv2.FILLED)\n",
    "                    \n",
    "                    \n",
    "                    # Get the coordinates of another point (index IP right here) for angle calculation\n",
    "                    sx, sy = int(handLms.landmark[id - 1].x * w), int(handLms.landmark[id-1].y * h)\n",
    "                        \n",
    "                    # Calculate the distance between fingertip and the target dot\n",
    "                    x_target_distance = rx2 - cx\n",
    "                    y_target_distance = ry2 - cy\n",
    "                    distance = math.sqrt(x_target_distance**2 + y_target_distance**2)\n",
    "                        \n",
    "                    # Calculate the angle to the target point using atan2\n",
    "                    angle_to_target_in_radians = math.atan2(y_target_distance, x_target_distance)\n",
    "                    angle_to_target_in_degrees = degrees(angle_to_target_in_radians)\n",
    "                        \n",
    "                    # Calculate the angle of the index tip (relative to the hand) using atan2\n",
    "                    index_angle_in_radians = math.atan2(cy - sy, cx - sx)\n",
    "                    index_angle_in_degrees = degrees(index_angle_in_radians)\n",
    "                        \n",
    "                    # Compute the difference in angles\n",
    "                    angle_difference = angle_to_target_in_degrees - index_angle_in_degrees\n",
    "                        \n",
    "                    # Normalize the angle difference to the range [-180, 180]\n",
    "                    angle_difference = (angle_difference + 180) % 360 - 180\n",
    "                \n",
    "                \n",
    "                # A line that connect the fingertip and the target dot\n",
    "                    cv2.line(image, (cx, cy), (rx2, ry2), (0, 255, 0), 2)\n",
    "                        \n",
    "                        \n",
    "                \n",
    "                # Display distance and angle on the image\n",
    "                    index_text_position = (cx, cy - 40)\n",
    "                    cv2.putText(image, f\"distance: {distance:.2f}\", index_text_position, font, font_scale, color, thickness)\n",
    "                    angle_text_position = (cx, cy - 70)\n",
    "                    cv2.putText(image, f\"angle difference: {angle_difference:.2f}\", angle_text_position, font, font_scale, color, thickness)\n",
    "                    \n",
    "                    \n",
    "                    \n",
    "                if middle_finger_tip and id == 12:\n",
    "                    cv2.circle(image, (cx, cy), 25, (0, 255, 0), cv2.FILLED)\n",
    "                    \n",
    "                    \n",
    "                    # Get the coordinates of another point (middle IP right here) for angle calculation\n",
    "                    sx, sy = int(handLms.landmark[id - 1].x * w), int(handLms.landmark[id-1].y * h)\n",
    "                        \n",
    "                    # Calculate the distance between fingertip and the target dot\n",
    "                    x_target_distance = rx3 - cx\n",
    "                    y_target_distance = ry3 - cy\n",
    "                    distance = math.sqrt(x_target_distance**2 + y_target_distance**2)\n",
    "                        \n",
    "                    # Calculate the angle to the target point using atan2\n",
    "                    angle_to_target_in_radians = math.atan2(y_target_distance, x_target_distance)\n",
    "                    angle_to_target_in_degrees = degrees(angle_to_target_in_radians)\n",
    "                        \n",
    "                    # Calculate the angle of the middle tip (relative to the hand) using atan2\n",
    "                    middle_angle_in_radians = math.atan2(cy - sy, cx - sx)\n",
    "                    middle_angle_in_degrees = degrees(middle_angle_in_radians)\n",
    "                        \n",
    "                    # Compute the difference in angles\n",
    "                    angle_difference = angle_to_target_in_degrees - middle_angle_in_degrees\n",
    "                        \n",
    "                    # Normalize the angle difference to the range [-180, 180]\n",
    "                    angle_difference = (angle_difference + 180) % 360 - 180\n",
    "                \n",
    "                \n",
    "                # A line that connect the fingertip and the target dot\n",
    "                    cv2.line(image, (cx, cy), (rx3, ry3), (0, 255, 0), 2)\n",
    "                        \n",
    "                        \n",
    "                \n",
    "                # Display distance and angle on the image\n",
    "                    middle_text_position = (cx, cy - 40)\n",
    "                    cv2.putText(image, f\"distance: {distance:.2f}\", middle_text_position, font, font_scale, color, thickness)\n",
    "                    angle_text_position = (cx, cy - 70)\n",
    "                    cv2.putText(image, f\"angle difference: {angle_difference:.2f}\", angle_text_position, font, font_scale, color, thickness)\n",
    "                \n",
    "                \n",
    "                if ring_finger_tip and id == 16:\n",
    "                    cv2.circle(image, (cx, cy), 25, (0, 255, 0), cv2.FILLED)\n",
    "                    \n",
    "                    \n",
    "                    # Get the coordinates of another point (ring IP right here) for angle calculation\n",
    "                    sx, sy = int(handLms.landmark[id - 1].x * w), int(handLms.landmark[id-1].y * h)\n",
    "                        \n",
    "                    # Calculate the distance between fingertip and the target dot\n",
    "                    x_target_distance = rx4 - cx\n",
    "                    y_target_distance = ry4 - cy\n",
    "                    distance = math.sqrt(x_target_distance**2 + y_target_distance**2)\n",
    "                        \n",
    "                    # Calculate the angle to the target point using atan2\n",
    "                    angle_to_target_in_radians = math.atan2(y_target_distance, x_target_distance)\n",
    "                    angle_to_target_in_degrees = degrees(angle_to_target_in_radians)\n",
    "                        \n",
    "                    # Calculate the angle of the thumb tip (relative to the hand) using atan2\n",
    "                    ring_angle_in_radians = math.atan2(cy - sy, cx - sx)\n",
    "                    ring_angle_in_degrees = degrees(ring_angle_in_radians)\n",
    "                        \n",
    "                    # Compute the difference in angles\n",
    "                    angle_difference = angle_to_target_in_degrees - ring_angle_in_degrees\n",
    "                        \n",
    "                    # Normalize the angle difference to the range [-180, 180]\n",
    "                    angle_difference = (angle_difference + 180) % 360 - 180\n",
    "                \n",
    "                \n",
    "                # A line that connect the fingertip and the target dot\n",
    "                    cv2.line(image, (cx, cy), (rx4, ry4), (0, 255, 0), 2)\n",
    "                        \n",
    "                        \n",
    "                \n",
    "                # Display distance and angle on the image\n",
    "                    ring_text_position = (cx, cy - 40)\n",
    "                    cv2.putText(image, f\"distance: {distance:.2f}\", ring_text_position, font, font_scale, color, thickness)\n",
    "                    angle_text_position = (cx, cy - 70)\n",
    "                    cv2.putText(image, f\"angle difference: {angle_difference:.2f}\", angle_text_position, font, font_scale, color, thickness)\n",
    "                \n",
    "                \n",
    "                if pinky_finger_tip and id == 20:\n",
    "                    cv2.circle(image, (cx, cy), 25, (0, 255, 0), cv2.FILLED)\n",
    "                    \n",
    "                    \n",
    "                    # Get the coordinates of another point (pinky IP right here) for angle calculation\n",
    "                    sx, sy = int(handLms.landmark[id - 1].x * w), int(handLms.landmark[id-1].y * h)\n",
    "                        \n",
    "                    # Calculate the distance between fingertip and the target dot\n",
    "                    x_target_distance = rx5 - cx\n",
    "                    y_target_distance = ry5 - cy\n",
    "                    distance = math.sqrt(x_target_distance**2 + y_target_distance**2)\n",
    "                        \n",
    "                    # Calculate the angle to the target point using atan2\n",
    "                    angle_to_target_in_radians = math.atan2(y_target_distance, x_target_distance)\n",
    "                    angle_to_target_in_degrees = degrees(angle_to_target_in_radians)\n",
    "                        \n",
    "                    # Calculate the angle of the thumb tip (relative to the hand) using atan2\n",
    "                    pinky_angle_in_radians = math.atan2(cy - sy, cx - sx)\n",
    "                    pinky_angle_in_degrees = degrees(pinky_angle_in_radians)\n",
    "                        \n",
    "                    # Compute the difference in angles\n",
    "                    angle_difference = angle_to_target_in_degrees - pinky_angle_in_degrees\n",
    "                        \n",
    "                    # Normalize the angle difference to the range [-180, 180]\n",
    "                    angle_difference = (angle_difference + 180) % 360 - 180\n",
    "                \n",
    "                \n",
    "                # A line that connect the fingertip and the target dot\n",
    "                    cv2.line(image, (cx, cy), (rx5, ry5), (0, 255, 0), 2)\n",
    "                        \n",
    "                        \n",
    "                \n",
    "                # Display distance and angle on the image\n",
    "                    pinky_text_position = (cx, cy - 40)\n",
    "                    cv2.putText(image, f\"distance: {distance:.2f}\", pinky_text_position, font, font_scale, color, thickness)\n",
    "                    angle_text_position = (cx, cy - 70)\n",
    "                    cv2.putText(image, f\"angle difference: {angle_difference:.2f}\", angle_text_position, font, font_scale, color, thickness)\n",
    "                \n",
    "                \n",
    "                   \n",
    "                \n",
    "                \n",
    "                    \n",
    "                        \n",
    "                \n",
    "            mpDraw.draw_landmarks(image, handLms, mpHands.HAND_CONNECTIONS)\n",
    "            \n",
    "    \n",
    "    cv2.imshow(\"Output\", image)\n",
    "    \n",
    "    \n",
    "    # Check for key presses\n",
    "    key = cv2.waitKey(1) & 0xFF \n",
    "    if key == ord('1'):\n",
    "        thumb_tip = not thumb_tip\n",
    "    elif key == ord('2'):\n",
    "        index_finger_tip = not index_finger_tip\n",
    "    elif key == ord('3'):\n",
    "        middle_finger_tip = not middle_finger_tip\n",
    "    elif key == ord('4'):\n",
    "        ring_finger_tip = not ring_finger_tip\n",
    "    elif key == ord('5'):\n",
    "        pinky_finger_tip = not pinky_finger_tip\n",
    "    elif key == ord('q'):\n",
    "        break\n",
    "        \n",
    "     # Check for window close button\n",
    "    if cv2.getWindowProperty(\"Output\", cv2.WND_PROP_VISIBLE) < 1:\n",
    "        break\n",
    "    \n",
    "        \n",
    "\n",
    "cap.release()\n",
    "cv2.destroyAllWindows()"
   ],
   "outputs": [
    {
     "name": "stderr",
     "output_type": "stream",
     "text": [
      "I0000 00:00:1737990558.645506  236064 gl_context.cc:357] GL version: 2.1 (2.1 Metal - 76.3), renderer: Apple M1\n",
      "W0000 00:00:1737990558.659599  238258 inference_feedback_manager.cc:114] Feedback manager requires a model with a single signature inference. Disabling support for feedback tensors.\n",
      "W0000 00:00:1737990558.670842  238258 inference_feedback_manager.cc:114] Feedback manager requires a model with a single signature inference. Disabling support for feedback tensors.\n"
     ]
    }
   ],
   "execution_count": 2
  },
  {
   "metadata": {},
   "cell_type": "code",
   "outputs": [],
   "execution_count": null,
   "source": ""
  }
 ],
 "metadata": {
  "colab": {
   "collapsed_sections": [
    "h2q27gKz1H20"
   ],
   "provenance": []
  },
  "kernelspec": {
   "display_name": "Python 3 (ipykernel)",
   "language": "python",
   "name": "python3"
  },
  "language_info": {
   "codemirror_mode": {
    "name": "ipython",
    "version": 3
   },
   "file_extension": ".py",
   "mimetype": "text/x-python",
   "name": "python",
   "nbconvert_exporter": "python",
   "pygments_lexer": "ipython3",
   "version": "3.8.10"
  }
 },
 "nbformat": 4,
 "nbformat_minor": 0
}
